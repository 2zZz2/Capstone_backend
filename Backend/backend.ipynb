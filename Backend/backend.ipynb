{
 "cells": [
  {
   "cell_type": "code",
   "execution_count": 1,
   "id": "bc2ba39c",
   "metadata": {
    "scrolled": false
   },
   "outputs": [
    {
     "name": "stdout",
     "output_type": "stream",
     "text": [
      "Requirement already satisfied: anvil-uplink in /Users/zhouchang/miniconda3/lib/python3.8/site-packages (0.3.41)\n",
      "Requirement already satisfied: ws4py in /Users/zhouchang/miniconda3/lib/python3.8/site-packages (from anvil-uplink) (0.5.1)\n",
      "Requirement already satisfied: future in /Users/zhouchang/miniconda3/lib/python3.8/site-packages (from anvil-uplink) (0.18.2)\n",
      "Requirement already satisfied: six in /Users/zhouchang/miniconda3/lib/python3.8/site-packages (from anvil-uplink) (1.14.0)\n",
      "Collecting argparse\n",
      "  Using cached argparse-1.4.0-py2.py3-none-any.whl (23 kB)\n",
      "Installing collected packages: argparse\n",
      "Successfully installed argparse-1.4.0\n"
     ]
    }
   ],
   "source": [
    "# install anvil and import anvil server\n",
    "!pip install anvil-uplink\n",
    "import anvil.server"
   ]
  },
  {
   "cell_type": "code",
   "execution_count": 2,
   "id": "303ede0b",
   "metadata": {},
   "outputs": [
    {
     "name": "stdout",
     "output_type": "stream",
     "text": [
      "Requirement already satisfied: PyMySQL in /Users/zhouchang/miniconda3/lib/python3.8/site-packages (1.0.2)\r\n"
     ]
    }
   ],
   "source": [
    "!pip install PyMySQL\n",
    "import pymysql"
   ]
  },
  {
   "cell_type": "code",
   "execution_count": 3,
   "id": "bfb6d6f8",
   "metadata": {},
   "outputs": [
    {
     "name": "stdout",
     "output_type": "stream",
     "text": [
      "Requirement already satisfied: plotly==5.6.0 in /Users/zhouchang/miniconda3/lib/python3.8/site-packages (5.6.0)\r\n",
      "Requirement already satisfied: tenacity>=6.2.0 in /Users/zhouchang/miniconda3/lib/python3.8/site-packages (from plotly==5.6.0) (8.0.1)\r\n",
      "Requirement already satisfied: six in /Users/zhouchang/miniconda3/lib/python3.8/site-packages (from plotly==5.6.0) (1.14.0)\r\n"
     ]
    }
   ],
   "source": [
    "!pip install plotly==5.6.0\n",
    "from datetime import datetime\n",
    "import plotly.express as px\n",
    "import pandas as pd"
   ]
  },
  {
   "cell_type": "code",
   "execution_count": 4,
   "id": "447dfda7",
   "metadata": {},
   "outputs": [
    {
     "name": "stdout",
     "output_type": "stream",
     "text": [
      "Connecting to wss://anvil.works/uplink\n",
      "Anvil websocket open\n",
      "Connected to \"Default environment\" as SERVER\n"
     ]
    }
   ],
   "source": [
    "# Connect to the anvil frontend\n",
    "anvil.server.connect(\"PVI2LD3VLGMNLT22SC6MILQG-FX3COW6HW5E3NGBT\")"
   ]
  },
  {
   "cell_type": "code",
   "execution_count": 5,
   "id": "e173166d",
   "metadata": {},
   "outputs": [],
   "source": [
    "def set_connection():\n",
    "    db = pymysql.connect(host='sh-cynosdbmysql-grp-75qwodo8.sql.tencentcdb.com',\n",
    "                         port =29563,user='capstone',password='capstone123!!!',\n",
    "                         db='circle_database_version3')\n",
    "    return db"
   ]
  },
  {
   "cell_type": "code",
   "execution_count": 6,
   "id": "84bd235e",
   "metadata": {},
   "outputs": [],
   "source": [
    "def stop_connection(db):\n",
    "    db.close()"
   ]
  },
  {
   "cell_type": "code",
   "execution_count": 7,
   "id": "114af1e6",
   "metadata": {},
   "outputs": [],
   "source": [
    "def generate_query(vehicle_id, start_time, end_time, lower_constraint, upper_constraint, table, kind):\n",
    "    query = \"SELECT \" + kind + \" , elapsed_time FROM \" + table + \" WHERE elapsed_time > '\" + str(start_time) + \"' and elapsed_time < '\" + str(end_time) + \"' and drive_id = '\" + str(vehicle_id) + \"' and \" + kind + \" > \" + lower_constraint + \" and \" + kind + \" < \" + upper_constraint\n",
    "    return query"
   ]
  },
  {
   "cell_type": "code",
   "execution_count": 8,
   "id": "5eefe2ef",
   "metadata": {},
   "outputs": [],
   "source": [
    "def datetime_to_float(d):\n",
    "    return d.timestamp()"
   ]
  },
  {
   "cell_type": "code",
   "execution_count": 9,
   "id": "7023cf0a",
   "metadata": {},
   "outputs": [],
   "source": [
    "@anvil.server.callable\n",
    "def query_lead_distance(vehicle_id, start_time, end_time, lower_lead, upper_lead):\n",
    "    start_time = start_time.replace(tzinfo=None)\n",
    "    end_time = end_time.replace(tzinfo=None)\n",
    "    MAXIMUM = 10000\n",
    "    lower_lead = str(lower_lead) if lower_lead != \"\" else str(- MAXIMUM)        \n",
    "    upper_lead = str(upper_lead) if upper_lead != \"\" else str(MAXIMUM)  \n",
    "        \n",
    "    query = generate_query(vehicle_id, start_time, end_time, lower_lead, upper_lead, \"fact_lead_distance\", \"lead_distance\")\n",
    "    db = set_connection()  \n",
    "    cursor = db.cursor()\n",
    "    cursor.execute(query)\n",
    "    data = cursor.fetchall()\n",
    "\n",
    "    stop_connection(db)\n",
    "    return list(data)\n",
    "\n",
    "@anvil.server.callable\n",
    "def query_speed(vehicle_id, start_time, end_time, lower_speed, upper_speed):\n",
    "    start_time = start_time.replace(tzinfo=None)\n",
    "    end_time = end_time.replace(tzinfo=None)\n",
    "    MAXIMUM = 10000\n",
    "    lower_speed = str(lower_speed) if lower_speed != \"\" else str(- MAXIMUM)        \n",
    "    upper_speed = str(upper_speed) if upper_speed != \"\" else str(MAXIMUM)  \n",
    "        \n",
    "    query = generate_query(vehicle_id, start_time, end_time, lower_speed, upper_speed, \"fact_speed\", \"speed\")\n",
    "    \n",
    "    db = set_connection()  \n",
    "    \n",
    "    cursor = db.cursor()\n",
    "    cursor.execute(query)\n",
    "    data = cursor.fetchall()\n",
    "    \n",
    "    stop_connection(db)\n",
    "    \n",
    "    return list(data)\n",
    "\n",
    "@anvil.server.callable\n",
    "def query_acc(vehicle_id, start_time, end_time, lower_acceleration, upper_acceleration):\n",
    "    st = start_time.replace(tzinfo=None)\n",
    "    et = end_time.replace(tzinfo=None)\n",
    "    MAXIMUM = 10000 \n",
    "    lower_acceleration = str(lower_acceleration) if lower_acceleration != \"\" else str(- MAXIMUM)        \n",
    "    upper_acceleration = str(upper_acceleration) if upper_acceleration != \"\" else str(MAXIMUM)\n",
    "    query = generate_query(vehicle_id, start_time, end_time, lower_acceleration, upper_acceleration, \"fact_acc\", \"fact_acc\")\n",
    "    \n",
    "    db = set_connection() \n",
    "    \n",
    "    cursor = db.cursor()\n",
    "    cursor.execute(query)\n",
    "    data = cursor.fetchall()\n",
    "\n",
    "    stop_connection(db)\n",
    "    return list(data)"
   ]
  },
  {
   "cell_type": "code",
   "execution_count": 10,
   "id": "0b0d6a6e",
   "metadata": {},
   "outputs": [],
   "source": [
    "@anvil.server.callable\n",
    "def query_all(drive_id, start_time, end_time):\n",
    "    start_time = start_time.replace(tzinfo=None)\n",
    "    end_time = end_time.replace(tzinfo=None)\n",
    "    start_time = datetime_to_float(start_time)\n",
    "    end_time = datetime_to_float(end_time)\n",
    "    \n",
    "    MAXIMUM = 10000\n",
    "    lower_lead = str(- MAXIMUM)        \n",
    "    upper_lead = str(MAXIMUM)  \n",
    "    lower_acceleration = str(- MAXIMUM)        \n",
    "    upper_acceleration = str(MAXIMUM)\n",
    "    lower_speed = str(- MAXIMUM)        \n",
    "    upper_speed = str(MAXIMUM) \n",
    "        \n",
    "    speed_query = generate_query(int(drive_id), start_time, end_time, lower_speed, upper_speed, \"fact_speed\", \"speed\")\n",
    "    print(speed_query)\n",
    "    acceleration_query = generate_query(int(drive_id), start_time, end_time, lower_acceleration, upper_acceleration, \"fact_acceleration\", \"acceleration\")\n",
    "    lead_query = generate_query(int(drive_id), start_time, end_time, lower_lead, upper_lead, \"fact_lead_distance\", \"lead_distance\")\n",
    "    db = set_connection()  \n",
    "    cursor = db.cursor()\n",
    "    cursor.execute(acceleration_query)\n",
    "    data1 = cursor.fetchall()\n",
    "\n",
    "    cursor = db.cursor()\n",
    "    cursor.execute(speed_query)\n",
    "    data2 = cursor.fetchall()\n",
    "    \n",
    "    cursor = db.cursor()\n",
    "    cursor.execute(lead_query)\n",
    "    data3 = cursor.fetchall()\n",
    "    stop_connection(db)\n",
    "    return list(data1), list(data2), list(data3)"
   ]
  },
  {
   "cell_type": "code",
   "execution_count": 19,
   "id": "74919fdb",
   "metadata": {},
   "outputs": [],
   "source": [
    "@anvil.server.callable\n",
    "def query_drive_id_by_gps(lat, long):\n",
    "    RANGE = 500\n",
    "    query_id = \"Select drive_id FROM fact_gps_message where latitude > \" + str(float(lat)-RANGE) + \" and latitude < \" + str(float(lat)+RANGE) + \" and longitude < \" + str(float(long)+RANGE) + \" and longitude > \" + str(float(long)-RANGE)\n",
    "    \n",
    "    db = set_connection() \n",
    "    cursor = db.cursor()\n",
    "    cursor.execute(query_id)\n",
    "    drive_ids = list(set(cursor.fetchall()))\n",
    "    string_list = []\n",
    "    gps_list = []\n",
    "    for drive_id in drive_ids:\n",
    "        cleaned_drive_id = drive_id[0]\n",
    "        query = \"Select vin FROM dim_vehicle WHERE id = \" + str(cleaned_drive_id)\n",
    "        cursor.execute(query)\n",
    "        vin = cursor.fetchall()[0][0]\n",
    "        query = \"Select systime_start, latitude_start, longitude_start FROM dim_drive WHERE id = \" + str(cleaned_drive_id)\n",
    "        cursor.execute(query)\n",
    "        l = cursor.fetchall()[0]\n",
    "        if l[0] != None:\n",
    "            time = datetime.fromtimestamp(l[0])\n",
    "            latitude = l[1]\n",
    "            longitude = l[2]\n",
    "            string_list.append(\"Vehicle ID: \" + str(vin) + \" Start Time: \" + str(time)[:19] + \" Drive ID: \" + str(cleaned_drive_id))\n",
    "            gps_list.append([latitude, longitude])\n",
    "        if l[0] == None:\n",
    "            string_list.append(\"Vehicle ID: \" + str(vin) + \" Start Time: \" + \"Not Available\" + \" Drive ID: \" + str(cleaned_drive_id))\n",
    "            latitude = l[1]\n",
    "            longitude = l[2]\n",
    "            gps_list.append([latitude, longitude])\n",
    "    stop_connection(db)\n",
    "    return string_list, gps_list"
   ]
  },
  {
   "cell_type": "code",
   "execution_count": 20,
   "id": "b20065b5",
   "metadata": {},
   "outputs": [],
   "source": [
    "@anvil.server.callable\n",
    "def query_routine(drive_id):\n",
    "    query_gps = \"Select latitude, longitude FROM fact_gps_message where drive_id = \" + str(drive_id)\n",
    "    \n",
    "    db = set_connection() \n",
    "    cursor = db.cursor()\n",
    "    cursor.execute(query_gps)\n",
    "    gps_data = cursor.fetchall()\n",
    "    \n",
    "    gps = []\n",
    "    for latlong in gps_data:\n",
    "        gps.append([latlong[0], latlong[1]])\n",
    "    stop_connection(db)\n",
    "    return gps"
   ]
  },
  {
   "cell_type": "code",
   "execution_count": 24,
   "id": "1b1d802a",
   "metadata": {},
   "outputs": [],
   "source": [
    "@anvil.server.callable\n",
    "def query_drive_id_by_time(start_time, end_time):\n",
    "    start_time = start_time.replace(tzinfo=None)\n",
    "    end_time = end_time.replace(tzinfo=None)\n",
    "    start_time = datetime_to_float(start_time)\n",
    "    end_time = datetime_to_float(end_time)\n",
    "    query_id = \"Select vehicle_id FROM dim_drive WHERE systime_start > \" + str(start_time) + \" and systime_end < \" + str(end_time)\n",
    "    db = set_connection() \n",
    "    cursor = db.cursor()\n",
    "    cursor.execute(query_id)\n",
    "    drive_ids = list(cursor.fetchall())\n",
    "    string_list = []\n",
    "    gps_list = []\n",
    "    for drive_id in drive_ids:\n",
    "        cleaned_drive_id = drive_id[0]\n",
    "        query = \"Select vin FROM dim_vehicle WHERE id = \" + str(cleaned_drive_id)\n",
    "        cursor.execute(query)\n",
    "        vin = cursor.fetchall()[0][0]\n",
    "        query = \"Select systime_start, latitude_start, longitude_start FROM dim_drive WHERE id = \" + str(cleaned_drive_id)\n",
    "        cursor.execute(query)\n",
    "        l = cursor.fetchall()[0]\n",
    "        if l[0]!=None:\n",
    "            time = datetime.fromtimestamp(l[0])\n",
    "            latitude = l[1]\n",
    "            longitude = l[2]\n",
    "            string_list.append(\"Vehicle ID: \" + str(vin) + \" Start Time: \" + str(time)[:19] + \" Drive ID: \" + str(cleaned_drive_id))\n",
    "            gps_list.append([latitude, longitude])\n",
    "        if l[0] == None:\n",
    "            string_list.append(\"Vehicle ID: \" + str(vin) + \" Start Time: \" + \"Not Available\" + \" Drive ID: \" + str(cleaned_drive_id))\n",
    "            latitude = l[1]\n",
    "            longitude = l[2]\n",
    "            gps_list.append([latitude, longitude])\n",
    "    stop_connection(db)\n",
    "    return string_list, gps_list"
   ]
  },
  {
   "cell_type": "code",
   "execution_count": 27,
   "id": "551dfb16",
   "metadata": {},
   "outputs": [],
   "source": [
    "@anvil.server.callable\n",
    "def generate_CSV(drive_id):\n",
    "    query = \"Select latitude, longitude, altitude, speed, lead_distance, acceleration, relative_vel, acc_status FROM fact_drive_data WHERE drive_id = \" + str(drive_id)\n",
    "    db = set_connection() \n",
    "    df = pd. read_sql(query, db)\n",
    "    df.to_csv('search.csv')"
   ]
  },
  {
   "cell_type": "code",
   "execution_count": 26,
   "id": "09ad2648",
   "metadata": {},
   "outputs": [
    {
     "ename": "KeyboardInterrupt",
     "evalue": "",
     "output_type": "error",
     "traceback": [
      "\u001b[0;31m---------------------------------------------------------------------------\u001b[0m",
      "\u001b[0;31mKeyboardInterrupt\u001b[0m                         Traceback (most recent call last)",
      "Input \u001b[0;32mIn [26]\u001b[0m, in \u001b[0;36m<module>\u001b[0;34m\u001b[0m\n\u001b[0;32m----> 1\u001b[0m \u001b[43manvil\u001b[49m\u001b[38;5;241;43m.\u001b[39;49m\u001b[43mserver\u001b[49m\u001b[38;5;241;43m.\u001b[39;49m\u001b[43mwait_forever\u001b[49m\u001b[43m(\u001b[49m\u001b[43m)\u001b[49m\n",
      "File \u001b[0;32m~/miniconda3/lib/python3.8/site-packages/anvil/server.py:432\u001b[0m, in \u001b[0;36mwait_forever\u001b[0;34m()\u001b[0m\n\u001b[1;32m    430\u001b[0m _get_connection()\n\u001b[1;32m    431\u001b[0m \u001b[38;5;28;01mwhile\u001b[39;00m \u001b[38;5;28;01mTrue\u001b[39;00m:\n\u001b[0;32m--> 432\u001b[0m     \u001b[43mtime\u001b[49m\u001b[38;5;241;43m.\u001b[39;49m\u001b[43msleep\u001b[49m\u001b[43m(\u001b[49m\u001b[38;5;241;43m1\u001b[39;49m\u001b[43m)\u001b[49m\n",
      "\u001b[0;31mKeyboardInterrupt\u001b[0m: "
     ]
    }
   ],
   "source": [
    "anvil.server.wait_forever()"
   ]
  },
  {
   "cell_type": "code",
   "execution_count": null,
   "id": "4fc78471",
   "metadata": {},
   "outputs": [],
   "source": []
  }
 ],
 "metadata": {
  "kernelspec": {
   "display_name": "Python 3 (ipykernel)",
   "language": "python",
   "name": "python3"
  },
  "language_info": {
   "codemirror_mode": {
    "name": "ipython",
    "version": 3
   },
   "file_extension": ".py",
   "mimetype": "text/x-python",
   "name": "python",
   "nbconvert_exporter": "python",
   "pygments_lexer": "ipython3",
   "version": "3.8.3"
  }
 },
 "nbformat": 4,
 "nbformat_minor": 5
}
